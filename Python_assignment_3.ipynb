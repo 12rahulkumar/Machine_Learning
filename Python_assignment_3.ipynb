{
  "nbformat": 4,
  "nbformat_minor": 0,
  "metadata": {
    "colab": {
      "name": "Python_assignment_3.ipynb",
      "provenance": [],
      "collapsed_sections": [],
      "authorship_tag": "ABX9TyNDQxHQFQ2/MQg9crveDdEL",
      "include_colab_link": true
    },
    "kernelspec": {
      "name": "python3",
      "display_name": "Python 3"
    }
  },
  "cells": [
    {
      "cell_type": "markdown",
      "metadata": {
        "id": "view-in-github",
        "colab_type": "text"
      },
      "source": [
        "<a href=\"https://colab.research.google.com/github/12rahulkumar/Machine_Learning/blob/master/Python_assignment_3.ipynb\" target=\"_parent\"><img src=\"https://colab.research.google.com/assets/colab-badge.svg\" alt=\"Open In Colab\"/></a>"
      ]
    },
    {
      "cell_type": "code",
      "metadata": {
        "id": "3VkIWqKD8NK-",
        "colab_type": "code",
        "colab": {
          "base_uri": "https://localhost:8080/",
          "height": 34
        },
        "outputId": "633b0844-4b5f-4854-cfc2-9518a8110d36"
      },
      "source": [
        "#    Write a Python Program to implement your own myreduce() function which works exactly like Python's built-in function reduce()\n",
        "\n",
        "\n",
        "def myreduce(findmax,sequence):\n",
        "    \n",
        "    max = []\n",
        "    for i in range(len(sequence)-1):\n",
        "        max = findmax(sequence[i],sequence[i+1])\n",
        "    \n",
        "    return max\n",
        "\n",
        "def findmax(a,b):\n",
        "    if (a>=b):\n",
        "        return a\n",
        "    else:\n",
        "        return b\n",
        "\n",
        "print(\"maximum value in a sequence is \",myreduce(findmax,[1,22,34,12,-4,44]))"
      ],
      "execution_count": 14,
      "outputs": [
        {
          "output_type": "stream",
          "text": [
            "maximum value in a sequence is  44\n"
          ],
          "name": "stdout"
        }
      ]
    },
    {
      "cell_type": "code",
      "metadata": {
        "id": "8nqpzzT3-QWu",
        "colab_type": "code",
        "colab": {
          "base_uri": "https://localhost:8080/",
          "height": 34
        },
        "outputId": "479fe246-cb9b-461a-b1b0-57dbf4fb46ff"
      },
      "source": [
        "#    Write a Python program to implement your own myfilter() function which works exactly like Python's built-in function filter()\n",
        "\n",
        "\n",
        "def myfilter(anyfunc,sequence):\n",
        "  result = []\n",
        "\n",
        "  for item in sequence:\n",
        "    if anyfunc(item):\n",
        "      result.append(item)\n",
        "    \n",
        "  return result\n",
        "\n",
        "def ispositive(x):\n",
        "    if (x<=0):\n",
        "      return False\n",
        "    else:\n",
        "      return True\n",
        "\n",
        "  \n",
        "print(\"positive number in a sequence is \",myfilter(ispositive,[0,-1,-2,2,4,-23,44,34]))\n"
      ],
      "execution_count": 15,
      "outputs": [
        {
          "output_type": "stream",
          "text": [
            "positive number in a sequence is  [2, 4, 44, 34]\n"
          ],
          "name": "stdout"
        }
      ]
    },
    {
      "cell_type": "code",
      "metadata": {
        "id": "VeVWflunp2nv",
        "colab_type": "code",
        "colab": {}
      },
      "source": [
        ""
      ],
      "execution_count": null,
      "outputs": []
    },
    {
      "cell_type": "code",
      "metadata": {
        "id": "S1U-CqeF-QjO",
        "colab_type": "code",
        "colab": {
          "base_uri": "https://localhost:8080/",
          "height": 101
        },
        "outputId": "7477863c-e08e-408b-e0a5-aad23f14b486"
      },
      "source": [
        "#    Implement List comprehensions to produce the following lists. Write List comprehensions to produce the following Lists\n",
        "\n",
        "#    ['x', 'xx', 'xxx', 'xxxx', 'y', 'yy', 'yyy', 'yyyy', 'z', 'zz', 'zzz', 'zzzz']\n",
        "\n",
        "list1 = ['x','y','z']\n",
        "result = [ item*num for item in list1 for num in range(1,5) ]\n",
        "\n",
        "print(str(result))\n",
        "\n",
        "\n",
        "#['x', 'y', 'z', 'xx', 'yy', 'zz', 'xxx', 'yyy', 'zzz', 'xxxx', 'yyyy', 'zzzz']\n",
        "\n",
        "list2 = ['x','y','z']\n",
        "result = [ item*num for num in range(1,5) for item in list2 ]\n",
        "print(str(result))\n",
        "\n",
        "\n",
        "\n",
        "#    [[2], [3], [4], [3], [4], [5], [4], [5], [6]] \n",
        "\n",
        "list3 = [2,3,4]\n",
        "result = [ [item+num] for item in list3 for num in range(0,3) ]\n",
        "print(result)\n",
        "\n",
        "\n",
        "# [[2, 3, 4, 5], [3, 4, 5, 6],[4, 5, 6, 7], [5, 6, 7, 8]]\n",
        "\n",
        "list4 = [2,3,4,5]\n",
        "result = [ [item+num for item in list4 ] for num in range(0,4) ]\n",
        "print(result)\n",
        "\n",
        "\n",
        "#[(1, 1), (2, 1), (3, 1), (1, 2), (2, 2), (3, 2), (1, 3), (2, 3), (3, 3)]\n",
        "\n",
        "list5 = [1,2,3]\n",
        "result = [ (num,item) for item in list5 for num in list5 ]\n",
        "print(result)\n",
        "\n"
      ],
      "execution_count": 9,
      "outputs": [
        {
          "output_type": "stream",
          "text": [
            "['x', 'xx', 'xxx', 'xxxx', 'y', 'yy', 'yyy', 'yyyy', 'z', 'zz', 'zzz', 'zzzz']\n",
            "['x', 'y', 'z', 'xx', 'yy', 'zz', 'xxx', 'yyy', 'zzz', 'xxxx', 'yyyy', 'zzzz']\n",
            "[[2], [3], [4], [3], [4], [5], [4], [5], [6]]\n",
            "[[2, 3, 4, 5], [3, 4, 5, 6], [4, 5, 6, 7], [5, 6, 7, 8]]\n",
            "[(1, 1), (2, 1), (3, 1), (1, 2), (2, 2), (3, 2), (1, 3), (2, 3), (3, 3)]\n"
          ],
          "name": "stdout"
        }
      ]
    },
    {
      "cell_type": "code",
      "metadata": {
        "id": "Krb7q8R4_0gG",
        "colab_type": "code",
        "colab": {}
      },
      "source": [
        "+"
      ],
      "execution_count": null,
      "outputs": []
    }
  ]
}