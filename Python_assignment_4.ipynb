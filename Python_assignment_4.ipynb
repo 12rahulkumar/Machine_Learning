{
  "nbformat": 4,
  "nbformat_minor": 0,
  "metadata": {
    "colab": {
      "name": "Python_assignment_4.ipynb",
      "provenance": [],
      "collapsed_sections": [],
      "authorship_tag": "ABX9TyOVN62dZwuuVHKMTxXonYYl",
      "include_colab_link": true
    },
    "kernelspec": {
      "name": "python3",
      "display_name": "Python 3"
    }
  },
  "cells": [
    {
      "cell_type": "markdown",
      "metadata": {
        "id": "view-in-github",
        "colab_type": "text"
      },
      "source": [
        "<a href=\"https://colab.research.google.com/github/12rahulkumar/Machine_Learning/blob/master/Python_assignment_4.ipynb\" target=\"_parent\"><img src=\"https://colab.research.google.com/assets/colab-badge.svg\" alt=\"Open In Colab\"/></a>"
      ]
    },
    {
      "cell_type": "code",
      "metadata": {
        "id": "TAmmrTG9FuBf",
        "colab_type": "code",
        "colab": {
          "base_uri": "https://localhost:8080/",
          "height": 84
        },
        "outputId": "c5d79761-a8ec-4b99-eef0-8615c09d831b"
      },
      "source": [
        "#  Write a Python Program(with class concepts) to find the area of the triangle using the below formula.\n",
        "#  area = (s*(s-a)*(s-b)*(s-c)) ** 0.5\n",
        "#  Function to take the length of the sides of triangle from user should be defined in the parent\n",
        "#  class and function to calculate the area should be defined in subclass.\n",
        "\n",
        "\n",
        "class poly:\n",
        "    def __init__(self, a, b, c):\n",
        "        self.a = float(a)\n",
        "        self.b = float(b)\n",
        "        self.c = float(c)\n",
        "        self.area = 0\n",
        "\n",
        "class triangle(poly):\n",
        "    def __init__(self, a, b, c):\n",
        "        poly.__init__(self, a, b, c)\n",
        "\n",
        "    def calculate_area(self):\n",
        "        s = (self.a + self.b + self.c) / 2\n",
        "        self.area = float((s * (s - self.a) * (s - self.b) * (s - self.c))) ** 0.5\n",
        "\n",
        "    def get_area(self):\n",
        "        return self.area     \n",
        "\n",
        "a, b, c = input(\"a = \"), input(\"b = \"), input(\"c = \")\n",
        "\n",
        "t = triangle(a, b, c)\n",
        "t.calculate_area()\n",
        "print(\"area : {}\".format(t.get_area()))"
      ],
      "execution_count": null,
      "outputs": [
        {
          "output_type": "stream",
          "text": [
            "a = 5\n",
            "b = 5\n",
            "c = 5\n",
            "area : 10.825317547305483\n"
          ],
          "name": "stdout"
        }
      ]
    },
    {
      "cell_type": "code",
      "metadata": {
        "id": "AEjacELfF0fM",
        "colab_type": "code",
        "colab": {
          "base_uri": "https://localhost:8080/",
          "height": 67
        },
        "outputId": "fbe268d5-7cb3-4186-c94f-2f931f301f11"
      },
      "source": [
        "#  Write a function filter_long_words() that takes a list of words and an integer n and returns the list of words that are longer than n.\n",
        "\n",
        "#-----------------------------------------------------------------------------------------------------------------------------------------\n",
        "\n",
        "\n",
        "#  list1 = [\"\",\"a\",\"ab\",\"abc\",\"abcd\",\"abcde\",\"abcdef\"]\n",
        "list1 = eval(input('enter the list1 item = '))\n",
        "list2 = []\n",
        "\n",
        "n = int(input('enter the value of n : '))\n",
        "\n",
        "def filter_long_words(list1,n):\n",
        "    for itr in list1:\n",
        "        n1 = len(itr)\n",
        "        if (n1>n):\n",
        "            list2.append(itr)\n",
        "\n",
        "\n",
        "filter_long_words(list1,n)\n",
        "print(list2)\n"
      ],
      "execution_count": null,
      "outputs": [
        {
          "output_type": "stream",
          "text": [
            "enter the list1 item = [\"\",\"a\",\"ab\",\"abc\",\"abcd\",\"abcde\",\"abcdef\"]\n",
            "enter the value of n : 3\n",
            "['abcd', 'abcde', 'abcdef']\n"
          ],
          "name": "stdout"
        }
      ]
    },
    {
      "cell_type": "code",
      "metadata": {
        "id": "GlGLicHiF0m6",
        "colab_type": "code",
        "colab": {
          "base_uri": "https://localhost:8080/",
          "height": 50
        },
        "outputId": "b183134b-7932-4372-e5c7-0344c417d4ea"
      },
      "source": [
        "#  Write a Python program using function concept that maps list of words into a list of integers representing the lengths of the corresponding words.\n",
        "\n",
        "list1 = eval(input(\"enter the list1 item = \"))\n",
        "list2 = []\n",
        "\n",
        "def length(list1):\n",
        "    for itr in list1:\n",
        "        list2.append(len(itr))\n",
        "\n",
        "length(list1)\n",
        "\n",
        "print(list2)\n"
      ],
      "execution_count": null,
      "outputs": [
        {
          "output_type": "stream",
          "text": [
            "enter the list1 item = [\"ab\",\"abc\",\"abcd\"]\n",
            "[2, 3, 4]\n"
          ],
          "name": "stdout"
        }
      ]
    },
    {
      "cell_type": "code",
      "metadata": {
        "id": "la0O_WrCF0xl",
        "colab_type": "code",
        "colab": {
          "base_uri": "https://localhost:8080/",
          "height": 50
        },
        "outputId": "cd8d9a02-c2cd-4c45-903f-1b82aed91513"
      },
      "source": [
        "#  Write a Python function which takes a character (i.e. a string of length 1) and returns True if it is a vowel, False otherwise.\n",
        "\n",
        "def is_check(character):\n",
        "    list1 = ['a','e','i','o','u','A','E','I','O','U']\n",
        "    if (character in list1):\n",
        "        return True\n",
        "    else:\n",
        "        return False\n",
        "\n",
        "name = input('enter a character : ')\n",
        "print(is_check(name))\n"
      ],
      "execution_count": null,
      "outputs": [
        {
          "output_type": "stream",
          "text": [
            "enter a character : b\n",
            "False\n"
          ],
          "name": "stdout"
        }
      ]
    }
  ]
}