{
  "nbformat": 4,
  "nbformat_minor": 0,
  "metadata": {
    "colab": {
      "name": "Pandas_1st_class.py",
      "provenance": [],
      "collapsed_sections": [],
      "authorship_tag": "ABX9TyPU3/pKdJdU9W3tkfv53mUG",
      "include_colab_link": true
    },
    "kernelspec": {
      "name": "python3",
      "display_name": "Python 3"
    }
  },
  "cells": [
    {
      "cell_type": "markdown",
      "metadata": {
        "id": "view-in-github",
        "colab_type": "text"
      },
      "source": [
        "<a href=\"https://colab.research.google.com/github/12rahulkumar/Machine_Learning/blob/master/Pandas_1st_class_py.ipynb\" target=\"_parent\"><img src=\"https://colab.research.google.com/assets/colab-badge.svg\" alt=\"Open In Colab\"/></a>"
      ]
    },
    {
      "cell_type": "code",
      "metadata": {
        "id": "TY6cnp6vn5rF",
        "colab_type": "code",
        "colab": {
          "base_uri": "https://localhost:8080/",
          "height": 50
        },
        "outputId": "e25387f9-a1fe-4c51-8ab8-5018b28d6a9b"
      },
      "source": [
        "#   In the cell below, create a DataFrame fruits that looks like this:\n",
        "\n",
        "#               Apples   Banana\n",
        "#           0     30       21\n",
        "\n",
        "\n",
        "import pandas as pd\n",
        "\n",
        "fruits = pd.DataFrame({'Apple':[30],'Banana':[21]})\n",
        "print(fruits)"
      ],
      "execution_count": 2,
      "outputs": [
        {
          "output_type": "stream",
          "text": [
            "   Apple  Banana\n",
            "0     30      21\n"
          ],
          "name": "stdout"
        }
      ]
    },
    {
      "cell_type": "code",
      "metadata": {
        "id": "iD-GBo5Dp9xF",
        "colab_type": "code",
        "colab": {
          "base_uri": "https://localhost:8080/",
          "height": 67
        },
        "outputId": "607f9c28-4d5f-4b29-a635-6d6d984f1506"
      },
      "source": [
        "#   In the cell below, create a DataFrame that looks like this:\n",
        "\n",
        "#        Bob\t              Sue\n",
        "# 0\t  I liked it.\t     Pretty good.\n",
        "# 1\t  It was awful.\t     Bland.\n",
        "\n",
        "\n",
        "import pandas as pf\n",
        "\n",
        "person = pf.DataFrame({'Bob':['I liked it','it was awful'],'Sue':['Preety good','Bland']})\n",
        "\n",
        "print(person)"
      ],
      "execution_count": 3,
      "outputs": [
        {
          "output_type": "stream",
          "text": [
            "            Bob          Sue\n",
            "0    I liked it  Preety good\n",
            "1  it was awful        Bland\n"
          ],
          "name": "stdout"
        }
      ]
    },
    {
      "cell_type": "code",
      "metadata": {
        "id": "wvBzheF7quPr",
        "colab_type": "code",
        "colab": {
          "base_uri": "https://localhost:8080/",
          "height": 67
        },
        "outputId": "f3ab053a-f17e-4749-e1bc-498f8f83df50"
      },
      "source": [
        "#   In the cell below, create a DataFrame fruits that looks like this:\n",
        "\n",
        "#                 Apples   Banana\n",
        "#           ram     30       21\n",
        "#           rahul   25       22\n",
        "\n",
        "import pandas as pd\n",
        "\n",
        "fruits = pd.DataFrame({'Apples':[30,25],'Banana':[21,22]},index = ['ram','rahul'])\n",
        "\n",
        "print(fruits)"
      ],
      "execution_count": 19,
      "outputs": [
        {
          "output_type": "stream",
          "text": [
            "       Apples  Banana\n",
            "ram        30      21\n",
            "rahul      25      22\n"
          ],
          "name": "stdout"
        }
      ]
    },
    {
      "cell_type": "code",
      "metadata": {
        "id": "gFEde6lfsbcJ",
        "colab_type": "code",
        "colab": {
          "base_uri": "https://localhost:8080/",
          "height": 118
        },
        "outputId": "9c3b2e06-1661-44d3-c842-3ad3fe452513"
      },
      "source": [
        "# create a series that look like this\n",
        "\n",
        "# 0 1\n",
        "# 1 2\n",
        "# 2 3\n",
        "# 3 4\n",
        "# 4 5\n",
        "\n",
        "import pandas as pd\n",
        "\n",
        "num = pd.Series([1,2,3,4,5])\n",
        "print(num)"
      ],
      "execution_count": 8,
      "outputs": [
        {
          "output_type": "stream",
          "text": [
            "0    1\n",
            "1    2\n",
            "2    3\n",
            "3    4\n",
            "4    5\n",
            "dtype: int64\n"
          ],
          "name": "stdout"
        }
      ]
    },
    {
      "cell_type": "code",
      "metadata": {
        "id": "fEC8NcAVs7P-",
        "colab_type": "code",
        "colab": {
          "base_uri": "https://localhost:8080/",
          "height": 101
        },
        "outputId": "dc53b3b5-6704-4d7d-aab8-5f2ad48cec7b"
      },
      "source": [
        "# Create a variable ingredients with a Series that looks like:\n",
        "\n",
        "# Flour     4 cups\n",
        "# Milk       1 cup\n",
        "# Eggs     2 large\n",
        "# Spam       1 can\n",
        "# Name: Dinner, dtype: object\n",
        "\n",
        "\n",
        "import pandas as pd\n",
        "ingredients = pd.Series(['4 cups','1 cup','2 large','1 can'] , name = 'Dinner' , index = ['Flour','Milk','Eggs','Spam'])\n",
        "print(ingredients)"
      ],
      "execution_count": 12,
      "outputs": [
        {
          "output_type": "stream",
          "text": [
            "Flour     4 cups\n",
            "Milk       1 cup\n",
            "Eggs     2 large\n",
            "Spam       1 can\n",
            "Name: Dinner, dtype: object\n"
          ],
          "name": "stdout"
        }
      ]
    }
  ]
}