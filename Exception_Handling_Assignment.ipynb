{
  "nbformat": 4,
  "nbformat_minor": 0,
  "metadata": {
    "colab": {
      "name": "Exception_Handling_Assignment.ipynb",
      "provenance": [],
      "collapsed_sections": [],
      "authorship_tag": "ABX9TyOYtqSVIMnzG0/WhIa5FlcY",
      "include_colab_link": true
    },
    "kernelspec": {
      "name": "python3",
      "display_name": "Python 3"
    }
  },
  "cells": [
    {
      "cell_type": "markdown",
      "metadata": {
        "id": "view-in-github",
        "colab_type": "text"
      },
      "source": [
        "<a href=\"https://colab.research.google.com/github/12rahulkumar/Machine_Learning/blob/master/Exception_Handling_Assignment.ipynb\" target=\"_parent\"><img src=\"https://colab.research.google.com/assets/colab-badge.svg\" alt=\"Open In Colab\"/></a>"
      ]
    },
    {
      "cell_type": "code",
      "metadata": {
        "id": "aD0ODj7Ak-7F",
        "colab_type": "code",
        "colab": {
          "base_uri": "https://localhost:8080/",
          "height": 34
        },
        "outputId": "9ee0d3e6-a577-4a20-8e9e-f83ff532c0bd"
      },
      "source": [
        "# 1. Write a function to compute 5/0 and use try/except to catch the exceptions.\n",
        "\n",
        "\n",
        "def divide():\n",
        "    return 5/0\n",
        "\n",
        "try:\n",
        "    divide()\n",
        "except ZeroDivisionError as ze:\n",
        "    print(\"Why on earth you are dividing a number by ZERO!!\")\n",
        "except:\n",
        "    print(\"Any other exception\")"
      ],
      "execution_count": 4,
      "outputs": [
        {
          "output_type": "stream",
          "text": [
            "Why on earth you are dividing a number by ZERO!!\n"
          ],
          "name": "stdout"
        }
      ]
    },
    {
      "cell_type": "code",
      "metadata": {
        "id": "Sc_BqhVwmKJ-",
        "colab_type": "code",
        "colab": {}
      },
      "source": [
        ""
      ],
      "execution_count": null,
      "outputs": []
    },
    {
      "cell_type": "code",
      "metadata": {
        "id": "RnAmF7folkXy",
        "colab_type": "code",
        "colab": {
          "base_uri": "https://localhost:8080/",
          "height": 151
        },
        "outputId": "55394deb-eb69-4909-c8fb-222ec124bb10"
      },
      "source": [
        "# 2. Implement a Python program to generate all sentences where subject is in\n",
        "# [\"Americans\", \"Indians\"] and verb is in [\"Play\", \"watch\"] and the object is in\n",
        "# [\"Baseball\",\"cricket\"].\n",
        "# Hint: Subject,Verb and Object should be declared in the program as shown below.\n",
        "# subjects=[\"Americans \",\"Indians\"]\n",
        "# verbs=[\"play\",\"watch\"]\n",
        "# objects=[\"Baseball\",\"Cricket\"]\n",
        "\n",
        "\n",
        "subject=[\"Americans\", \"Indians\"]\n",
        "verb=[\"Play\", \"watch\"]\n",
        "obj=[\"Baseball\",\"cricket\"]\n",
        "\n",
        "sentence_list = [(sub+\" \"+ vb + \" \" + ob) for sub in subject for vb in verb for ob in obj]\n",
        "for sentence in sentence_list:\n",
        " print (sentence)"
      ],
      "execution_count": 3,
      "outputs": [
        {
          "output_type": "stream",
          "text": [
            "Americans Play Baseball\n",
            "Americans Play cricket\n",
            "Americans watch Baseball\n",
            "Americans watch cricket\n",
            "Indians Play Baseball\n",
            "Indians Play cricket\n",
            "Indians watch Baseball\n",
            "Indians watch cricket\n"
          ],
          "name": "stdout"
        }
      ]
    }
  ]
}