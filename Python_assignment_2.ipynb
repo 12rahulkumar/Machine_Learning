{
  "nbformat": 4,
  "nbformat_minor": 0,
  "metadata": {
    "colab": {
      "name": "Python_assignment_2.ipynb",
      "provenance": [],
      "collapsed_sections": [],
      "authorship_tag": "ABX9TyNv88ixHjm10KX6yyyph3GT",
      "include_colab_link": true
    },
    "kernelspec": {
      "name": "python3",
      "display_name": "Python 3"
    }
  },
  "cells": [
    {
      "cell_type": "markdown",
      "metadata": {
        "id": "view-in-github",
        "colab_type": "text"
      },
      "source": [
        "<a href=\"https://colab.research.google.com/github/12rahulkumar/Machine_Learning/blob/master/Python_assignment_2.ipynb\" target=\"_parent\"><img src=\"https://colab.research.google.com/assets/colab-badge.svg\" alt=\"Open In Colab\"/></a>"
      ]
    },
    {
      "cell_type": "code",
      "metadata": {
        "id": "ARoOGhyk5sEO",
        "colab_type": "code",
        "colab": {
          "base_uri": "https://localhost:8080/",
          "height": 168
        },
        "outputId": "d22ff0f0-1dbc-482a-bb97-51146c735061"
      },
      "source": [
        "#  1. Create the below pattern using nested for loop in Pyhton\n",
        "\n",
        "#   *\n",
        "#   **\n",
        "#   ***\n",
        "#   ****\n",
        "#   *****\n",
        "#   ****\n",
        "#   ***\n",
        "#   **\n",
        "#   *\n",
        "\n",
        "\n",
        "i=1\n",
        "\n",
        "while (i<10):\n",
        "  if i<=5:\n",
        "    j=1\n",
        "    while (j<=i):\n",
        "      print('*',end=\"\")\n",
        "      j=j+1\n",
        "    print(\"\")\n",
        "  else:\n",
        "    k=1\n",
        "    while (k<=10-i):\n",
        "      print(\"*\",end=\"\")\n",
        "      k=k+1\n",
        "    print('')\n",
        "  i=i+1\n"
      ],
      "execution_count": null,
      "outputs": [
        {
          "output_type": "stream",
          "text": [
            "*\n",
            "**\n",
            "***\n",
            "****\n",
            "*****\n",
            "****\n",
            "***\n",
            "**\n",
            "*\n"
          ],
          "name": "stdout"
        }
      ]
    },
    {
      "cell_type": "code",
      "metadata": {
        "id": "pMA0chan8E1e",
        "colab_type": "code",
        "colab": {
          "base_uri": "https://localhost:8080/",
          "height": 52
        },
        "outputId": "a970728d-2cd0-4d49-9e16-e1df296cdfbe"
      },
      "source": [
        "#   Write a Python program to reverse a word after accepting the input from the user.\n",
        "\n",
        "word = str(input('enter a word : '))\n",
        "word[::-1]"
      ],
      "execution_count": null,
      "outputs": [
        {
          "output_type": "stream",
          "text": [
            "enter a word : rahul singh\n"
          ],
          "name": "stdout"
        },
        {
          "output_type": "execute_result",
          "data": {
            "application/vnd.google.colaboratory.intrinsic": {
              "type": "string"
            },
            "text/plain": [
              "'hgnis luhar'"
            ]
          },
          "metadata": {
            "tags": []
          },
          "execution_count": 3
        }
      ]
    }
  ]
}